{
 "cells": [
  {
   "cell_type": "code",
   "execution_count": 1,
   "id": "excellent-moses",
   "metadata": {},
   "outputs": [],
   "source": [
    "import numpy as np\n",
    "import matplotlib.pyplot as plt\n",
    "import torchvision.transforms as T\n",
    "to_img = T.ToPILImage()\n",
    "from PIL import Image\n",
    "from torchvision.transforms import Compose, RandomCrop, ToTensor, ToPILImage, CenterCrop, Resize, GaussianBlur, Grayscale\n",
    "import random"
   ]
  },
  {
   "cell_type": "code",
   "execution_count": 2,
   "id": "front-suite",
   "metadata": {},
   "outputs": [],
   "source": [
    "folders = ['lr_bicubic', 'gt', 'srgan_one', 'esrgan_one', 'cv2_esrgan', 'cv2_srgan', 'didn_esrgan', 'didn_srgan', 'esrgan_cv2', 'srgan_cv2']"
   ]
  },
  {
   "cell_type": "code",
   "execution_count": 3,
   "id": "solid-modem",
   "metadata": {},
   "outputs": [],
   "source": [
    "base_path = \"/home/ubuntu/noisy-superres/data/DIV2K/vis_images/\""
   ]
  },
  {
   "cell_type": "code",
   "execution_count": 6,
   "id": "elementary-cameroon",
   "metadata": {
    "scrolled": true
   },
   "outputs": [
    {
     "name": "stdout",
     "output_type": "stream",
     "text": [
      "torch.Size([3, 1596, 1596])\n",
      "torch.Size([3, 1596, 1596])\n",
      "torch.Size([3, 1596, 1596])\n",
      "torch.Size([3, 1596, 1596])\n",
      "torch.Size([3, 1596, 1596])\n",
      "torch.Size([3, 1596, 1596])\n",
      "torch.Size([3, 1568, 1568])\n",
      "torch.Size([3, 1568, 1568])\n",
      "torch.Size([3, 1596, 1596])\n",
      "torch.Size([3, 1596, 1596])\n"
     ]
    }
   ],
   "source": [
    "for ind in range(10):\n",
    "    img_name = \"img\" + str(ind) + \".png\"\n",
    "    img_paths = []\n",
    "    for folder in folders:\n",
    "        img_path = base_path + folder + \"/\" + img_name\n",
    "        img_paths.append(img_path)\n",
    "    d1, d2, d3, d4 = (600, 1000, 600, 1000)\n",
    "    f, axarr = plt.subplots(figsize=(100, 40), nrows=2, ncols=5) \n",
    "    for i in range(len(folders)):\n",
    "        folder = folders[i]\n",
    "        if folder == \"srgan_one\":\n",
    "            label_name = \"noisy_srgan\"\n",
    "        elif folder == \"esrgan_one\":\n",
    "            label_name = \"noisy_esrgan\"\n",
    "        elif folder == \"gt\":\n",
    "            label_name = \"ground_truth\"\n",
    "        else:\n",
    "            label_name = folder\n",
    "        img = ToTensor()(Image.open(img_paths[i]))\n",
    "        print(img.shape)\n",
    "        if label_name == \"lr\":\n",
    "            dd1 = d1 // 4\n",
    "            dd2 = d2 // 4\n",
    "            dd3 = d3 // 4\n",
    "            dd4 = d4 // 4\n",
    "    #         print(dd1, dd2, dd3, dd4)\n",
    "            img = img[:, dd1:dd2, dd3:dd4]\n",
    "        else:\n",
    "            img = img[:, d1:d2, d3:d4]\n",
    "        img = to_img(img)\n",
    "        axarr[i // 5][i % 5].imshow(img)\n",
    "        axarr[i // 5][i % 5].set_title(label_name, fontsize=20)\n",
    "    plt.savefig(\"/home/ubuntu/noisy-superres/visual_results_smaller/\" + img_name)\n",
    "    plt.show()\n",
    "    raise"
   ]
  },
  {
   "cell_type": "code",
   "execution_count": null,
   "id": "expected-inspiration",
   "metadata": {},
   "outputs": [],
   "source": [
    "# ind = 0"
   ]
  },
  {
   "cell_type": "code",
   "execution_count": null,
   "id": "hungry-israel",
   "metadata": {},
   "outputs": [],
   "source": [
    "# img_name = \"img\" + str(ind) + \".png\""
   ]
  },
  {
   "cell_type": "code",
   "execution_count": null,
   "id": "invisible-numbers",
   "metadata": {},
   "outputs": [],
   "source": []
  },
  {
   "cell_type": "code",
   "execution_count": null,
   "id": "differential-university",
   "metadata": {},
   "outputs": [],
   "source": [
    "# crops = [(700, 1100, 0, 400), (200, 600, 300, 700)]"
   ]
  },
  {
   "cell_type": "code",
   "execution_count": null,
   "id": "peripheral-greene",
   "metadata": {},
   "outputs": [],
   "source": []
  },
  {
   "cell_type": "code",
   "execution_count": null,
   "id": "ecological-sunglasses",
   "metadata": {},
   "outputs": [],
   "source": []
  },
  {
   "cell_type": "code",
   "execution_count": null,
   "id": "alone-campaign",
   "metadata": {
    "scrolled": true
   },
   "outputs": [],
   "source": [
    "img_paths = []\n",
    "for folder in folders:\n",
    "    img_path = base_path + folder + \"/\" + img_name\n",
    "    img_paths.append(img_path)"
   ]
  },
  {
   "cell_type": "code",
   "execution_count": null,
   "id": "proprietary-omaha",
   "metadata": {},
   "outputs": [],
   "source": [
    "d1, d2, d3, d4 = crops[ind]\n",
    "f, axarr = plt.subplots(figsize=(400, 160), nrows=2, ncols=5) \n",
    "for i in range(len(folders)):\n",
    "    folder = folders[i]\n",
    "    if folder == \"srgan_one\":\n",
    "        label_name = \"noisy_srgan\"\n",
    "    elif folder == \"esrgan_one\":\n",
    "        label_name = \"noisy_esrgan\"\n",
    "    elif folder == \"gt\":\n",
    "        label_name = \"ground_truth\"\n",
    "    else:\n",
    "        label_name = folder\n",
    "    img = ToTensor()(Image.open(img_paths[i]))\n",
    "    print(img.shape)\n",
    "    if label_name == \"lr\":\n",
    "        dd1 = d1 // 4\n",
    "        dd2 = d2 // 4\n",
    "        dd3 = d3 // 4\n",
    "        dd4 = d4 // 4\n",
    "#         print(dd1, dd2, dd3, dd4)\n",
    "        img = img[:, dd1:dd2, dd3:dd4]\n",
    "    else:\n",
    "        img = img[:, d1:d2, d3:d4]\n",
    "    img = to_img(img)\n",
    "    axarr[i // 5][i % 5].imshow(img)\n",
    "    axarr[i // 5][i % 5].set_title(label_name, fontsize=400)\n",
    "plt.savefig(\"/home/ubuntu/noisy-superres/visual_results/\" + img_name)\n",
    "plt.show()"
   ]
  },
  {
   "cell_type": "code",
   "execution_count": null,
   "id": "adverse-maria",
   "metadata": {},
   "outputs": [],
   "source": []
  },
  {
   "cell_type": "code",
   "execution_count": null,
   "id": "complete-device",
   "metadata": {},
   "outputs": [],
   "source": []
  },
  {
   "cell_type": "code",
   "execution_count": null,
   "id": "combined-treatment",
   "metadata": {},
   "outputs": [],
   "source": []
  }
 ],
 "metadata": {
  "kernelspec": {
   "display_name": "Environment (conda_pytorch_latest_p37)",
   "language": "python",
   "name": "conda_pytorch_latest_p37"
  },
  "language_info": {
   "codemirror_mode": {
    "name": "ipython",
    "version": 3
   },
   "file_extension": ".py",
   "mimetype": "text/x-python",
   "name": "python",
   "nbconvert_exporter": "python",
   "pygments_lexer": "ipython3",
   "version": "3.7.10"
  }
 },
 "nbformat": 4,
 "nbformat_minor": 5
}
